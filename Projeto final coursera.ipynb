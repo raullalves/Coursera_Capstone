{
 "cells": [
  {
   "cell_type": "markdown",
   "metadata": {
    "collapsed": true
   },
   "source": [
    "# Analysis of São Paulo Metro stations using Foursquare data"
   ]
  },
  {
   "cell_type": "markdown",
   "metadata": {},
   "source": [
    "Raul Alves \n",
    "\n",
    "<i>Data Scientist </i>"
   ]
  },
  {
   "cell_type": "markdown",
   "metadata": {},
   "source": [
    "## Introduction"
   ]
  },
  {
   "cell_type": "markdown",
   "metadata": {},
   "source": [
    "São Paulo metro has more than 80 stations and it is highly used as an efficient public transport. More than 8 million people use it daily.\n",
    "Each station becomes an area of intense economic activity. However, some of then, probabily the ones more distant to the center, are more residential. The way to measure if the station is more residential or more business focused is exploring its closest venues. By having that information, we can analyse that, if a station has less commercial venues, the people that live nearby probabily travel for other station for working and shopping. Those information are necessary for the public administrators, managing the resources for each area, and for people that are looking for places for opening a new business."
   ]
  },
  {
   "cell_type": "markdown",
   "metadata": {},
   "source": [
    "The objective of this work is to measure how much resident or comercial is a metro station and verify the deficit of venues types in the nearby of each station."
   ]
  },
  {
   "cell_type": "code",
   "execution_count": null,
   "metadata": {},
   "outputs": [],
   "source": []
  }
 ],
 "metadata": {
  "kernelspec": {
   "display_name": "Python 3.6",
   "language": "python",
   "name": "python3"
  },
  "language_info": {
   "codemirror_mode": {
    "name": "ipython",
    "version": 3
   },
   "file_extension": ".py",
   "mimetype": "text/x-python",
   "name": "python",
   "nbconvert_exporter": "python",
   "pygments_lexer": "ipython3",
   "version": "3.6.9"
  }
 },
 "nbformat": 4,
 "nbformat_minor": 1
}
